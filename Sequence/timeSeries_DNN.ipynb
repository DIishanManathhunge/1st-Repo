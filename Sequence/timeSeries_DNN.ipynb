{
  "nbformat": 4,
  "nbformat_minor": 0,
  "metadata": {
    "colab": {
      "name": "timeSeries DNN",
      "provenance": [],
      "authorship_tag": "ABX9TyMGWNm7TGzvVA+BFKejrVQy",
      "include_colab_link": true
    },
    "kernelspec": {
      "name": "python3",
      "display_name": "Python 3"
    }
  },
  "cells": [
    {
      "cell_type": "markdown",
      "metadata": {
        "id": "view-in-github",
        "colab_type": "text"
      },
      "source": [
        "<a href=\"https://colab.research.google.com/github/DilshanManathunge/1st-Repo/blob/master/Sequence/timeSeries_DNN.ipynb\" target=\"_parent\"><img src=\"https://colab.research.google.com/assets/colab-badge.svg\" alt=\"Open In Colab\"/></a>"
      ]
    },
    {
      "cell_type": "code",
      "metadata": {
        "id": "CCbIP9wifkMo",
        "colab_type": "code",
        "colab": {}
      },
      "source": [
        "import tensorflow as tf \n",
        "import numpy as np \n",
        "import matplotlib.pyplot as plt "
      ],
      "execution_count": 2,
      "outputs": []
    },
    {
      "cell_type": "code",
      "metadata": {
        "id": "8YhOr9UBfo1E",
        "colab_type": "code",
        "colab": {}
      },
      "source": [
        "def plot_series(time,series,format=\"-\",start=0,end=None):\n",
        "  plt.plot(time[start:end],series[start:end],format)\n",
        "  plt.xlabel(\"Time\")\n",
        "  plt.ylabel(\"Value\")\n",
        "  plt.grid(True)"
      ],
      "execution_count": 3,
      "outputs": []
    },
    {
      "cell_type": "code",
      "metadata": {
        "id": "U83zlcRQgIvP",
        "colab_type": "code",
        "colab": {}
      },
      "source": [
        "def trend(time,slope = 0 ):\n",
        "  return slope * time\n",
        "def seasonal_pattern(seasonal_time):\n",
        "  return np.where(seasonal_time > 0.4, np.cos(seasonal_time * 2 * np.pi),1/np.exp(3 * seasonal_time))"
      ],
      "execution_count": 12,
      "outputs": []
    },
    {
      "cell_type": "code",
      "metadata": {
        "id": "hMYXgAwvgjTC",
        "colab_type": "code",
        "colab": {}
      },
      "source": [
        "def seasonality(time,period,amplitude =1,phase = 0):\n",
        "  season_time = ((time + phase)% period)/period\n",
        "  return amplitude * seasonal_pattern(season_time) "
      ],
      "execution_count": 10,
      "outputs": []
    },
    {
      "cell_type": "code",
      "metadata": {
        "id": "6y05R1Ivg4Tb",
        "colab_type": "code",
        "colab": {}
      },
      "source": [
        "def noise(time,noise_level = 1,seed = None):\n",
        "  rnd = np.random.RandomState(seed)\n",
        "  return rnd.randn(len(time))*noise_level "
      ],
      "execution_count": 6,
      "outputs": []
    },
    {
      "cell_type": "code",
      "metadata": {
        "id": "7wsGBMWQhHL5",
        "colab_type": "code",
        "colab": {}
      },
      "source": [
        "time = np.arange(4 * 365 + 1 ,dtype=\"float32\")\n",
        "baseline = 10 \n",
        "series = trend(time,0.1)\n",
        "baseline = 10 \n",
        "amplitude = 40\n",
        "slope  = 0.05 \n",
        "noise_level = 5\n",
        "\n"
      ],
      "execution_count": 7,
      "outputs": []
    },
    {
      "cell_type": "code",
      "metadata": {
        "id": "TuV12rY3hbco",
        "colab_type": "code",
        "colab": {}
      },
      "source": [
        "series =baseline + trend(time,slope) + seasonality(time,period=356,amplitude=amplitude)"
      ],
      "execution_count": 13,
      "outputs": []
    },
    {
      "cell_type": "code",
      "metadata": {
        "id": "Oj38W8pqhm6h",
        "colab_type": "code",
        "colab": {}
      },
      "source": [
        "series += noise(time,noise_level,seed =42)\n",
        "split_time =1000\n",
        "time_train = time[:split_time]\n",
        "x_train = series[:split_time]\n",
        "time_valid  = time[split_time:]\n",
        "x_valid = series[split_time :]\n",
        "window_size = 20\n",
        "batch_size = 32 \n",
        "shuffle_baffer_size = 1000"
      ],
      "execution_count": 14,
      "outputs": []
    },
    {
      "cell_type": "code",
      "metadata": {
        "id": "FGEIl-NliWev",
        "colab_type": "code",
        "colab": {}
      },
      "source": [
        "def windowded_dataset(series,window_size,batch_size,shuffle_buffer):\n",
        "  dataset  = tf.data.Dataset.from_tensor_slices(series)\n",
        "  dataset  = dataset.window(window_size+1 ,shift = 1 ,drop_remainder = True)\n",
        "  dataset = dataset.flat_map(lambda window: window.batch(window_size +1))\n",
        "  dataset = dataset.shuffle(shuffle_buffer).map(lambda window : (window[:-1],window[-1:]))\n",
        "  dataset = dataset.batch(batch_size).prefetch(1)\n",
        "  return dataset "
      ],
      "execution_count": 19,
      "outputs": []
    },
    {
      "cell_type": "code",
      "metadata": {
        "id": "B6_tyQRGjKPf",
        "colab_type": "code",
        "colab": {
          "base_uri": "https://localhost:8080/",
          "height": 1000
        },
        "outputId": "16951d5b-655b-42a4-b1d9-1b0d54f2ecdc"
      },
      "source": [
        "dataset = windowded_dataset(series,window_size,batch_size,shuffle_baffer_size)\n",
        "print(dataset)\n",
        "layer0 = tf.keras.layers.Dense(1,input_shape=[window_size])\n",
        "\n",
        "model = tf.keras.models.Sequential([layer0])\n",
        "model.compile(loss = \"mse\",optimizer = tf.keras.optimizers.SGD(lr = 1e-6,momentum=0.9))\n",
        "model.fit(dataset,epochs = 100,verbose = 1)\n",
        "print(\"Layer weights {}\".format(layer0.get_weights()))"
      ],
      "execution_count": 20,
      "outputs": [
        {
          "output_type": "stream",
          "text": [
            "<PrefetchDataset shapes: ((None, None), (None, None)), types: (tf.float32, tf.float32)>\n",
            "Epoch 1/100\n",
            "46/46 [==============================] - 0s 3ms/step - loss: 818.3569\n",
            "Epoch 2/100\n",
            "46/46 [==============================] - 0s 3ms/step - loss: 80.3175\n",
            "Epoch 3/100\n",
            "46/46 [==============================] - 0s 3ms/step - loss: 74.2420\n",
            "Epoch 4/100\n",
            "46/46 [==============================] - 0s 3ms/step - loss: 80.7292\n",
            "Epoch 5/100\n",
            "46/46 [==============================] - 0s 3ms/step - loss: 70.9189\n",
            "Epoch 6/100\n",
            "46/46 [==============================] - 0s 3ms/step - loss: 72.7105\n",
            "Epoch 7/100\n",
            "46/46 [==============================] - 0s 3ms/step - loss: 68.5638\n",
            "Epoch 8/100\n",
            "46/46 [==============================] - 0s 3ms/step - loss: 66.2505\n",
            "Epoch 9/100\n",
            "46/46 [==============================] - 0s 4ms/step - loss: 64.9015\n",
            "Epoch 10/100\n",
            "46/46 [==============================] - 0s 3ms/step - loss: 65.5196\n",
            "Epoch 11/100\n",
            "46/46 [==============================] - 0s 3ms/step - loss: 64.9482\n",
            "Epoch 12/100\n",
            "46/46 [==============================] - 0s 3ms/step - loss: 64.1905\n",
            "Epoch 13/100\n",
            "46/46 [==============================] - 0s 4ms/step - loss: 62.2278\n",
            "Epoch 14/100\n",
            "46/46 [==============================] - 0s 3ms/step - loss: 63.1476\n",
            "Epoch 15/100\n",
            "46/46 [==============================] - 0s 4ms/step - loss: 59.3976\n",
            "Epoch 16/100\n",
            "46/46 [==============================] - 0s 3ms/step - loss: 57.3007\n",
            "Epoch 17/100\n",
            "46/46 [==============================] - 0s 3ms/step - loss: 56.8595\n",
            "Epoch 18/100\n",
            "46/46 [==============================] - 0s 3ms/step - loss: 56.1707\n",
            "Epoch 19/100\n",
            "46/46 [==============================] - 0s 3ms/step - loss: 57.7643\n",
            "Epoch 20/100\n",
            "46/46 [==============================] - 0s 3ms/step - loss: 58.5977\n",
            "Epoch 21/100\n",
            "46/46 [==============================] - 0s 2ms/step - loss: 56.7553\n",
            "Epoch 22/100\n",
            "46/46 [==============================] - 0s 4ms/step - loss: 55.4316\n",
            "Epoch 23/100\n",
            "46/46 [==============================] - 0s 3ms/step - loss: 52.9935\n",
            "Epoch 24/100\n",
            "46/46 [==============================] - 0s 3ms/step - loss: 52.4099\n",
            "Epoch 25/100\n",
            "46/46 [==============================] - 0s 3ms/step - loss: 54.8693\n",
            "Epoch 26/100\n",
            "46/46 [==============================] - 0s 3ms/step - loss: 54.7357\n",
            "Epoch 27/100\n",
            "46/46 [==============================] - 0s 3ms/step - loss: 51.2655\n",
            "Epoch 28/100\n",
            "46/46 [==============================] - 0s 3ms/step - loss: 51.6860\n",
            "Epoch 29/100\n",
            "46/46 [==============================] - 0s 3ms/step - loss: 51.7255\n",
            "Epoch 30/100\n",
            "46/46 [==============================] - 0s 3ms/step - loss: 49.4128\n",
            "Epoch 31/100\n",
            "46/46 [==============================] - 0s 3ms/step - loss: 49.2338\n",
            "Epoch 32/100\n",
            "46/46 [==============================] - 0s 3ms/step - loss: 50.9485\n",
            "Epoch 33/100\n",
            "46/46 [==============================] - 0s 3ms/step - loss: 47.5490\n",
            "Epoch 34/100\n",
            "46/46 [==============================] - 0s 3ms/step - loss: 48.5415\n",
            "Epoch 35/100\n",
            "46/46 [==============================] - 0s 3ms/step - loss: 47.2777\n",
            "Epoch 36/100\n",
            "46/46 [==============================] - 0s 3ms/step - loss: 47.2017\n",
            "Epoch 37/100\n",
            "46/46 [==============================] - 0s 3ms/step - loss: 46.3242\n",
            "Epoch 38/100\n",
            "46/46 [==============================] - 0s 3ms/step - loss: 48.2644\n",
            "Epoch 39/100\n",
            "46/46 [==============================] - 0s 3ms/step - loss: 47.7000\n",
            "Epoch 40/100\n",
            "46/46 [==============================] - 0s 3ms/step - loss: 45.4637\n",
            "Epoch 41/100\n",
            "46/46 [==============================] - 0s 3ms/step - loss: 45.1767\n",
            "Epoch 42/100\n",
            "46/46 [==============================] - 0s 3ms/step - loss: 45.0530\n",
            "Epoch 43/100\n",
            "46/46 [==============================] - 0s 3ms/step - loss: 45.3029\n",
            "Epoch 44/100\n",
            "46/46 [==============================] - 0s 3ms/step - loss: 59.3689\n",
            "Epoch 45/100\n",
            "46/46 [==============================] - 0s 3ms/step - loss: 46.2829\n",
            "Epoch 46/100\n",
            "46/46 [==============================] - 0s 3ms/step - loss: 44.5230\n",
            "Epoch 47/100\n",
            "46/46 [==============================] - 0s 4ms/step - loss: 45.0942\n",
            "Epoch 48/100\n",
            "46/46 [==============================] - 0s 3ms/step - loss: 46.2888\n",
            "Epoch 49/100\n",
            "46/46 [==============================] - 0s 3ms/step - loss: 44.5164\n",
            "Epoch 50/100\n",
            "46/46 [==============================] - 0s 4ms/step - loss: 43.1591\n",
            "Epoch 51/100\n",
            "46/46 [==============================] - 0s 3ms/step - loss: 43.7238\n",
            "Epoch 52/100\n",
            "46/46 [==============================] - 0s 3ms/step - loss: 43.3780\n",
            "Epoch 53/100\n",
            "46/46 [==============================] - 0s 3ms/step - loss: 43.8847\n",
            "Epoch 54/100\n",
            "46/46 [==============================] - 0s 4ms/step - loss: 43.3341\n",
            "Epoch 55/100\n",
            "46/46 [==============================] - 0s 3ms/step - loss: 42.4370\n",
            "Epoch 56/100\n",
            "46/46 [==============================] - 0s 3ms/step - loss: 43.1968\n",
            "Epoch 57/100\n",
            "46/46 [==============================] - 0s 3ms/step - loss: 43.4675\n",
            "Epoch 58/100\n",
            "46/46 [==============================] - 0s 2ms/step - loss: 43.1277\n",
            "Epoch 59/100\n",
            "46/46 [==============================] - 0s 3ms/step - loss: 42.8419\n",
            "Epoch 60/100\n",
            "46/46 [==============================] - 0s 3ms/step - loss: 42.3999\n",
            "Epoch 61/100\n",
            "46/46 [==============================] - 0s 3ms/step - loss: 42.3245\n",
            "Epoch 62/100\n",
            "46/46 [==============================] - 0s 3ms/step - loss: 41.9503\n",
            "Epoch 63/100\n",
            "46/46 [==============================] - 0s 4ms/step - loss: 43.0208\n",
            "Epoch 64/100\n",
            "46/46 [==============================] - 0s 3ms/step - loss: 43.0191\n",
            "Epoch 65/100\n",
            "46/46 [==============================] - 0s 3ms/step - loss: 41.5965\n",
            "Epoch 66/100\n",
            "46/46 [==============================] - 0s 3ms/step - loss: 43.5475\n",
            "Epoch 67/100\n",
            "46/46 [==============================] - 0s 3ms/step - loss: 41.3354\n",
            "Epoch 68/100\n",
            "46/46 [==============================] - 0s 3ms/step - loss: 42.5290\n",
            "Epoch 69/100\n",
            "46/46 [==============================] - 0s 3ms/step - loss: 44.2253\n",
            "Epoch 70/100\n",
            "46/46 [==============================] - 0s 3ms/step - loss: 44.8282\n",
            "Epoch 71/100\n",
            "46/46 [==============================] - 0s 3ms/step - loss: 45.4171\n",
            "Epoch 72/100\n",
            "46/46 [==============================] - 0s 3ms/step - loss: 42.0472\n",
            "Epoch 73/100\n",
            "46/46 [==============================] - 0s 3ms/step - loss: 41.7298\n",
            "Epoch 74/100\n",
            "46/46 [==============================] - 0s 3ms/step - loss: 41.5469\n",
            "Epoch 75/100\n",
            "46/46 [==============================] - 0s 3ms/step - loss: 41.3336\n",
            "Epoch 76/100\n",
            "46/46 [==============================] - 0s 3ms/step - loss: 45.4577\n",
            "Epoch 77/100\n",
            "46/46 [==============================] - 0s 3ms/step - loss: 44.8607\n",
            "Epoch 78/100\n",
            "46/46 [==============================] - 0s 3ms/step - loss: 41.4721\n",
            "Epoch 79/100\n",
            "46/46 [==============================] - 0s 4ms/step - loss: 41.1866\n",
            "Epoch 80/100\n",
            "46/46 [==============================] - 0s 3ms/step - loss: 41.7136\n",
            "Epoch 81/100\n",
            "46/46 [==============================] - 0s 4ms/step - loss: 47.0469\n",
            "Epoch 82/100\n",
            "46/46 [==============================] - 0s 4ms/step - loss: 41.3316\n",
            "Epoch 83/100\n",
            "46/46 [==============================] - 0s 3ms/step - loss: 41.1046\n",
            "Epoch 84/100\n",
            "46/46 [==============================] - 0s 3ms/step - loss: 41.7627\n",
            "Epoch 85/100\n",
            "46/46 [==============================] - 0s 3ms/step - loss: 41.7612\n",
            "Epoch 86/100\n",
            "46/46 [==============================] - 0s 3ms/step - loss: 40.7749\n",
            "Epoch 87/100\n",
            "46/46 [==============================] - 0s 3ms/step - loss: 41.7750\n",
            "Epoch 88/100\n",
            "46/46 [==============================] - 0s 3ms/step - loss: 40.9576\n",
            "Epoch 89/100\n",
            "46/46 [==============================] - 0s 3ms/step - loss: 41.0793\n",
            "Epoch 90/100\n",
            "46/46 [==============================] - 0s 3ms/step - loss: 42.1528\n",
            "Epoch 91/100\n",
            "46/46 [==============================] - 0s 3ms/step - loss: 40.7822\n",
            "Epoch 92/100\n",
            "46/46 [==============================] - 0s 3ms/step - loss: 41.0118\n",
            "Epoch 93/100\n",
            "46/46 [==============================] - 0s 3ms/step - loss: 40.7824\n",
            "Epoch 94/100\n",
            "46/46 [==============================] - 0s 3ms/step - loss: 41.7281\n",
            "Epoch 95/100\n",
            "46/46 [==============================] - 0s 3ms/step - loss: 42.2823\n",
            "Epoch 96/100\n",
            "46/46 [==============================] - 0s 3ms/step - loss: 44.5684\n",
            "Epoch 97/100\n",
            "46/46 [==============================] - 0s 3ms/step - loss: 41.8322\n",
            "Epoch 98/100\n",
            "46/46 [==============================] - 0s 3ms/step - loss: 42.5824\n",
            "Epoch 99/100\n",
            "46/46 [==============================] - 0s 3ms/step - loss: 40.4255\n",
            "Epoch 100/100\n",
            "46/46 [==============================] - 0s 4ms/step - loss: 40.8785\n"
          ],
          "name": "stdout"
        },
        {
          "output_type": "error",
          "ename": "NameError",
          "evalue": "ignored",
          "traceback": [
            "\u001b[0;31m---------------------------------------------------------------------------\u001b[0m",
            "\u001b[0;31mNameError\u001b[0m                                 Traceback (most recent call last)",
            "\u001b[0;32m<ipython-input-20-69d0d34212f2>\u001b[0m in \u001b[0;36m<module>\u001b[0;34m()\u001b[0m\n\u001b[1;32m      6\u001b[0m \u001b[0mmodel\u001b[0m\u001b[0;34m.\u001b[0m\u001b[0mcompile\u001b[0m\u001b[0;34m(\u001b[0m\u001b[0mloss\u001b[0m \u001b[0;34m=\u001b[0m \u001b[0;34m\"mse\"\u001b[0m\u001b[0;34m,\u001b[0m\u001b[0moptimizer\u001b[0m \u001b[0;34m=\u001b[0m \u001b[0mtf\u001b[0m\u001b[0;34m.\u001b[0m\u001b[0mkeras\u001b[0m\u001b[0;34m.\u001b[0m\u001b[0moptimizers\u001b[0m\u001b[0;34m.\u001b[0m\u001b[0mSGD\u001b[0m\u001b[0;34m(\u001b[0m\u001b[0mlr\u001b[0m \u001b[0;34m=\u001b[0m \u001b[0;36m1e-6\u001b[0m\u001b[0;34m,\u001b[0m\u001b[0mmomentum\u001b[0m\u001b[0;34m=\u001b[0m\u001b[0;36m0.9\u001b[0m\u001b[0;34m)\u001b[0m\u001b[0;34m)\u001b[0m\u001b[0;34m\u001b[0m\u001b[0;34m\u001b[0m\u001b[0m\n\u001b[1;32m      7\u001b[0m \u001b[0mmodel\u001b[0m\u001b[0;34m.\u001b[0m\u001b[0mfit\u001b[0m\u001b[0;34m(\u001b[0m\u001b[0mdataset\u001b[0m\u001b[0;34m,\u001b[0m\u001b[0mepochs\u001b[0m \u001b[0;34m=\u001b[0m \u001b[0;36m100\u001b[0m\u001b[0;34m,\u001b[0m\u001b[0mverbose\u001b[0m \u001b[0;34m=\u001b[0m \u001b[0;36m1\u001b[0m\u001b[0;34m)\u001b[0m\u001b[0;34m\u001b[0m\u001b[0;34m\u001b[0m\u001b[0m\n\u001b[0;32m----> 8\u001b[0;31m \u001b[0mprint\u001b[0m\u001b[0;34m(\u001b[0m\u001b[0;34m\"Layer weights {}\"\u001b[0m\u001b[0;34m.\u001b[0m\u001b[0mformat\u001b[0m\u001b[0;34m(\u001b[0m\u001b[0ml0\u001b[0m\u001b[0;34m.\u001b[0m\u001b[0mget_weights\u001b[0m\u001b[0;34m(\u001b[0m\u001b[0;34m)\u001b[0m\u001b[0;34m)\u001b[0m\u001b[0;34m)\u001b[0m\u001b[0;34m\u001b[0m\u001b[0;34m\u001b[0m\u001b[0m\n\u001b[0m",
            "\u001b[0;31mNameError\u001b[0m: name 'l0' is not defined"
          ]
        }
      ]
    },
    {
      "cell_type": "code",
      "metadata": {
        "id": "rIGKaMAukGRL",
        "colab_type": "code",
        "colab": {
          "base_uri": "https://localhost:8080/",
          "height": 350
        },
        "outputId": "3430041c-07c5-4a78-a558-cda6b85878a3"
      },
      "source": [
        "print(\"Layer weights {}\".format(layer0.get_weights()))"
      ],
      "execution_count": 21,
      "outputs": [
        {
          "output_type": "stream",
          "text": [
            "Layer weights [array([[-4.8835184e-02],\n",
            "       [-2.3004690e-02],\n",
            "       [ 3.1902879e-02],\n",
            "       [-2.0237962e-02],\n",
            "       [ 2.0488555e-02],\n",
            "       [ 2.8302526e-04],\n",
            "       [ 1.4017032e-02],\n",
            "       [-3.9235421e-02],\n",
            "       [ 2.5059097e-03],\n",
            "       [-8.5711461e-03],\n",
            "       [ 1.1008755e-02],\n",
            "       [ 5.3027246e-02],\n",
            "       [-6.4388454e-02],\n",
            "       [ 6.6513546e-02],\n",
            "       [ 1.8925112e-02],\n",
            "       [ 4.8889853e-02],\n",
            "       [ 9.2026159e-02],\n",
            "       [ 2.2646488e-01],\n",
            "       [ 2.4083005e-01],\n",
            "       [ 3.6333072e-01]], dtype=float32), array([0.01744073], dtype=float32)]\n"
          ],
          "name": "stdout"
        }
      ]
    },
    {
      "cell_type": "code",
      "metadata": {
        "id": "jqenz31tjz4H",
        "colab_type": "code",
        "colab": {
          "base_uri": "https://localhost:8080/",
          "height": 565
        },
        "outputId": "a0b285e9-c188-44f6-e9d6-e1a1ecc446e6"
      },
      "source": [
        "forecast = []\n",
        "for time in range(len(series)-window_size):\n",
        "  forecast.append(model.predict(series[time:time + window_size][np.newaxis]))\n",
        "\n",
        "forecast = forecast[split_time-window_size:]\n",
        "result = np.array(forecast)[:,0,0]\n",
        "\n",
        "plt.figure(figsize=(10,6))\n",
        "plot_series(time_valid,x_valid)\n",
        "plot_series(time_valid,results)"
      ],
      "execution_count": 23,
      "outputs": [
        {
          "output_type": "error",
          "ename": "NameError",
          "evalue": "ignored",
          "traceback": [
            "\u001b[0;31m---------------------------------------------------------------------------\u001b[0m",
            "\u001b[0;31mNameError\u001b[0m                                 Traceback (most recent call last)",
            "\u001b[0;32m<ipython-input-23-45a77fb9d252>\u001b[0m in \u001b[0;36m<module>\u001b[0;34m()\u001b[0m\n\u001b[1;32m      8\u001b[0m \u001b[0mplt\u001b[0m\u001b[0;34m.\u001b[0m\u001b[0mfigure\u001b[0m\u001b[0;34m(\u001b[0m\u001b[0mfigsize\u001b[0m\u001b[0;34m=\u001b[0m\u001b[0;34m(\u001b[0m\u001b[0;36m10\u001b[0m\u001b[0;34m,\u001b[0m\u001b[0;36m6\u001b[0m\u001b[0;34m)\u001b[0m\u001b[0;34m)\u001b[0m\u001b[0;34m\u001b[0m\u001b[0;34m\u001b[0m\u001b[0m\n\u001b[1;32m      9\u001b[0m \u001b[0mplot_series\u001b[0m\u001b[0;34m(\u001b[0m\u001b[0mtime_valid\u001b[0m\u001b[0;34m,\u001b[0m\u001b[0mx_valid\u001b[0m\u001b[0;34m)\u001b[0m\u001b[0;34m\u001b[0m\u001b[0;34m\u001b[0m\u001b[0m\n\u001b[0;32m---> 10\u001b[0;31m \u001b[0mplot_series\u001b[0m\u001b[0;34m(\u001b[0m\u001b[0mtime_valid\u001b[0m\u001b[0;34m,\u001b[0m\u001b[0mresults\u001b[0m\u001b[0;34m)\u001b[0m\u001b[0;34m\u001b[0m\u001b[0;34m\u001b[0m\u001b[0m\n\u001b[0m",
            "\u001b[0;31mNameError\u001b[0m: name 'results' is not defined"
          ]
        },
        {
          "output_type": "display_data",
          "data": {
            "image/png": "[encoded data removed]",
            "text/plain": [
              "<Figure size 720x432 with 1 Axes>"
            ]
          },
          "metadata": {
            "tags": [],
            "needs_background": "light"
          }
        }
      ]
    },
    {
      "cell_type": "code",
      "metadata": {
        "id": "KSYoWlbok3SP",
        "colab_type": "code",
        "colab": {}
      },
      "source": [
        "tf.keras.metrics.mean_absolute_error(x_valid, results).numpy()"
      ],
      "execution_count": null,
      "outputs": []
    },
    {
      "cell_type": "code",
      "metadata": {
        "id": "kS7hhC8mk6L4",
        "colab_type": "code",
        "colab": {}
      },
      "source": [
        ""
      ],
      "execution_count": null,
      "outputs": []
    }
  ]
}